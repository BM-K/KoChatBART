{
 "cells": [
  {
   "cell_type": "code",
   "execution_count": 3,
   "id": "2a55de4e",
   "metadata": {},
   "outputs": [],
   "source": [
    "# import\n",
    "\n",
    "from transformers import PreTrainedTokenizerFast\n",
    "import os\n",
    "from tqdm import tqdm\n",
    "import json\n",
    "import csv\n",
    "import pandas as pd\n",
    "\n",
    "tokenizer = PreTrainedTokenizerFast.from_pretrained('gogamza/kobart-base-v1')"
   ]
  },
  {
   "cell_type": "code",
   "execution_count": 31,
   "id": "0ad6e035",
   "metadata": {},
   "outputs": [
    {
     "name": "stderr",
     "output_type": "stream",
     "text": [
      "100%|████████████████████████████████████████████████████████████████████████████████████████████████████████████████████████████████████████████████████| 8/8 [12:20<00:00, 92.57s/it]\n",
      "100%|████████████████████████████████████████████████████████████████████████████████████████████████████████████████████████████████████████████████████| 5/5 [00:29<00:00,  5.99s/it]\n"
     ]
    }
   ],
   "source": [
    "# 주제별 텍스트 일상 대화 데이터\n",
    "\n",
    "result_txt_dir = \"주제별 텍스트 일상 대화 데이터.txt\"\n",
    "\n",
    "if os.path.exists(result_txt_dir):\n",
    "    os.remove(result_txt_dir)\n",
    "\n",
    "base_dir = \"/workspace/020.주제별 텍스트 일상 대화 데이터/01.데이터\"\n",
    "train_dir = os.path.join(base_dir, \"1.Training/원천데이터\")\n",
    "val_dir = os.path.join(base_dir, \"2.Validation/원천데이터\")\n",
    "\n",
    "train_dir_list = os.listdir(train_dir)\n",
    "val_dir_list = os.listdir(val_dir)\n",
    "\n",
    "for dir in tqdm(train_dir_list, total=len(train_dir_list)):\n",
    "    current_dir = os.path.join(train_dir, dir)\n",
    "    \n",
    "    txt_list = os.listdir(current_dir)\n",
    "    \n",
    "    for txt in txt_list:\n",
    "        current_txt_dir = os.path.join(current_dir, txt)\n",
    "        \n",
    "        with open(current_txt_dir, 'r', encoding='utf-8') as f1, open(result_txt_dir, 'a', encoding='utf-8') as f2:\n",
    "            for line in f1.readlines():\n",
    "                if line[0].isdigit() and len(tokenizer.encode(line, add_special_tokens=False)) > 3:\n",
    "                    f2.write(line[4::].strip() + '\\n')\n",
    "                    \n",
    "for dir in tqdm(val_dir_list, total=len(val_dir_list)):\n",
    "    current_dir = os.path.join(val_dir, dir)\n",
    "    \n",
    "    txt_list = os.listdir(current_dir)\n",
    "    \n",
    "    for txt in txt_list:\n",
    "        current_txt_dir = os.path.join(current_dir, txt)\n",
    "        \n",
    "        with open(current_txt_dir, 'r', encoding='utf-8') as f1, open(result_txt_dir, 'a', encoding='utf-8') as f2:\n",
    "            for line in f1.readlines():\n",
    "                if line[0].isdigit() and len(tokenizer.encode(line, add_special_tokens=False)) > 3:\n",
    "                    f2.write(line[4::].strip() + '\\n')"
   ]
  },
  {
   "cell_type": "code",
   "execution_count": 33,
   "id": "b737db4e",
   "metadata": {},
   "outputs": [
    {
     "name": "stderr",
     "output_type": "stream",
     "text": [
      "  7%|██████████▌                                                                                                                                        | 1/14 [00:08<01:56,  8.93s/it]/opt/conda/lib/python3.7/site-packages/IPython/core/interactiveshell.py:3441: DtypeWarning: Columns (18) have mixed types.Specify dtype option on import or set low_memory=False.\n",
      "  exec(code_obj, self.user_global_ns, self.user_ns)\n",
      "100%|██████████████████████████████████████████████████████████████████████████████████████████████████████████████████████████████████████████████████| 14/14 [05:47<00:00, 24.86s/it]\n"
     ]
    }
   ],
   "source": [
    "# 소상공인 고객 주문 질의-응답 텍스트\n",
    "\n",
    "result_txt_dir = \"소상공인 고객 주문 질의-응답 텍스트.txt\"\n",
    "\n",
    "if os.path.exists(result_txt_dir):\n",
    "    os.remove(result_txt_dir)\n",
    "\n",
    "train_dir = \"/workspace/소상공인 고객 주문 질의-응답 텍스트/Training/라벨링데이터_train\"\n",
    "val_dir = \"/workspace/소상공인 고객 주문 질의-응답 텍스트/Validation/라벨링데이터_validation\"\n",
    "\n",
    "train_dir_list = os.listdir(train_dir)\n",
    "val_dir_list = os.listdir(val_dir)\n",
    "\n",
    "dataset = []\n",
    "\n",
    "for dir in tqdm(train_dir_list, total=len(train_dir_list)):\n",
    "    current_json_dir = os.path.join(train_dir, dir)\n",
    "    data = pd.read_csv(current_json_dir, keep_default_na=False)\n",
    "\n",
    "    for text in data['발화문']:\n",
    "        if len(tokenizer.encode(text, add_special_tokens=False)) > 3:\n",
    "            dataset.append(text)\n",
    "\n",
    "for dir in val_dir_list:\n",
    "    current_json_dir = os.path.join(val_dir, dir)\n",
    "    data = pd.read_csv(current_json_dir, keep_default_na=False)\n",
    "\n",
    "    for text in data['발화문']:\n",
    "        if len(tokenizer.encode(text, add_special_tokens=False)) > 3:\n",
    "            dataset.append(text)\n",
    "            \n",
    "with open(result_txt_dir, 'a', encoding='utf-8') as f:\n",
    "    for d in dataset:\n",
    "        f.write(d.strip() + '\\n')"
   ]
  },
  {
   "cell_type": "code",
   "execution_count": 34,
   "id": "b55cff0c",
   "metadata": {
    "scrolled": true
   },
   "outputs": [
    {
     "name": "stderr",
     "output_type": "stream",
     "text": [
      "100%|████████████████████████████████████████████████████████████████████████████████████████████████████████████████████████████████████████| 511496/511496 [07:48<00:00, 1092.18it/s]\n",
      "100%|████████████████████████████████████████████████████████████████████████████████████████████████████████████████████████████████████████| 141205/141205 [02:05<00:00, 1122.84it/s]\n",
      "100%|████████████████████████████████████████████████████████████████████████████████████████████████████████████████████████████████████████| 190306/190306 [02:51<00:00, 1110.70it/s]\n",
      "100%|████████████████████████████████████████████████████████████████████████████████████████████████████████████████████████████████████████| 146620/146620 [02:08<00:00, 1138.76it/s]\n",
      "100%|████████████████████████████████████████████████████████████████████████████████████████████████████████████████████████████████████████| 197528/197528 [02:55<00:00, 1123.82it/s]\n",
      "100%|██████████████████████████████████████████████████████████████████████████████████████████████████████████████████████████████████████████| 89975/89975 [01:20<00:00, 1123.89it/s]\n",
      "100%|████████████████████████████████████████████████████████████████████████████████████████████████████████████████████████████████████████| 115503/115503 [01:36<00:00, 1195.22it/s]\n",
      "100%|████████████████████████████████████████████████████████████████████████████████████████████████████████████████████████████████████████| 107976/107976 [01:35<00:00, 1126.63it/s]\n",
      "100%|██████████████████████████████████████████████████████████████████████████████████████████████████████████████████████████████████████████| 99383/99383 [01:21<00:00, 1218.92it/s]\n",
      "100%|██████████████████████████████████████████████████████████████████████████████████████████████████████████████████████████████████████████| 63938/63938 [00:56<00:00, 1141.71it/s]\n",
      "100%|██████████████████████████████████████████████████████████████████████████████████████████████████████████████████████████████████████████| 17651/17651 [00:14<00:00, 1186.58it/s]\n",
      "100%|██████████████████████████████████████████████████████████████████████████████████████████████████████████████████████████████████████████| 23789/23789 [00:20<00:00, 1161.64it/s]\n",
      "100%|██████████████████████████████████████████████████████████████████████████████████████████████████████████████████████████████████████████| 18328/18328 [00:15<00:00, 1198.38it/s]\n",
      "100%|██████████████████████████████████████████████████████████████████████████████████████████████████████████████████████████████████████████| 24691/24691 [00:20<00:00, 1186.08it/s]\n",
      "100%|██████████████████████████████████████████████████████████████████████████████████████████████████████████████████████████████████████████| 11247/11247 [00:10<00:00, 1096.68it/s]\n",
      "100%|██████████████████████████████████████████████████████████████████████████████████████████████████████████████████████████████████████████| 14439/14439 [00:12<00:00, 1182.91it/s]\n",
      "100%|██████████████████████████████████████████████████████████████████████████████████████████████████████████████████████████████████████████| 13498/13498 [00:11<00:00, 1129.34it/s]\n",
      "100%|██████████████████████████████████████████████████████████████████████████████████████████████████████████████████████████████████████████| 12423/12423 [00:10<00:00, 1232.51it/s]\n"
     ]
    }
   ],
   "source": [
    "# 한국어 SNS\n",
    "\n",
    "result_txt_dir = \"한국어 SNS.txt\"\n",
    "\n",
    "if os.path.exists(result_txt_dir):\n",
    "    os.remove(result_txt_dir)\n",
    "\n",
    "train_dir = \"/workspace/한국어 SNS/Training/[라벨]한국어SNS_train\"\n",
    "val_dir = \"/workspace/한국어 SNS/Validation/[라벨]한국어SNS_valid\"\n",
    "\n",
    "train_dir_list = os.listdir(train_dir)\n",
    "val_dir_list = os.listdir(val_dir)\n",
    "\n",
    "sns_dataset = []\n",
    "\n",
    "for dir in train_dir_list:\n",
    "    current_json_dir = os.path.join(train_dir, dir)\n",
    "\n",
    "    with open(current_json_dir, 'r', encoding='utf-8') as f:\n",
    "        json_data = json.load(f)\n",
    "\n",
    "    for data in tqdm(json_data['data'], total=len(json_data['data'])):\n",
    "        for body in data['body']:\n",
    "            if len(tokenizer.encode(body['utterance'], add_special_tokens=False)) > 3:\n",
    "                sns_dataset.append(body['utterance'])\n",
    "\n",
    "for dir in val_dir_list:\n",
    "    current_json_dir = os.path.join(val_dir, dir)\n",
    "\n",
    "    with open(current_json_dir, 'r', encoding='utf-8') as f:\n",
    "        json_data = json.load(f)\n",
    "\n",
    "    for data in tqdm(json_data['data'], total=len(json_data['data'])):\n",
    "        for body in data['body']:\n",
    "            if len(tokenizer.encode(body['utterance'], add_special_tokens=False)) > 3:\n",
    "                sns_dataset.append(body['utterance'])\n",
    "    \n",
    "with open(result_txt_dir, 'a', encoding='utf-8') as f:\n",
    "    for sns_data in sns_dataset:\n",
    "        f.write(sns_data.strip() + '\\n')"
   ]
  },
  {
   "cell_type": "code",
   "execution_count": 4,
   "id": "bba1e31a",
   "metadata": {},
   "outputs": [
    {
     "name": "stderr",
     "output_type": "stream",
     "text": [
      "100%|█████████████████████████████████████████████████████████████████████████████████████████████████████████████████████████████████████| 1648204/1648204 [01:57<00:00, 14083.01it/s]\n",
      "100%|█████████████████████████████████████████████████████████████████████████████████████████████████████████████████████████████████████| 5160133/5160133 [07:44<00:00, 11105.87it/s]\n",
      "100%|███████████████████████████████████████████████████████████████████████████████████████████████████████████████████████████████████| 21805276/21805276 [19:36<00:00, 18540.99it/s]\n",
      "100%|██████████████████████████████████████████████████████████████████████████████████████████████████████████████████████████████████| 93146044/93146044 [3:31:34<00:00, 7337.68it/s]\n"
     ]
    },
    {
     "name": "stdout",
     "output_type": "stream",
     "text": [
      "118590872\n"
     ]
    }
   ],
   "source": [
    "import re\n",
    "from itertools import groupby\n",
    "\n",
    "def repeat(data):\n",
    "    return [[k, len(list(g))] for k, g in groupby(data)]\n",
    "\n",
    "total_dataset = []\n",
    "\n",
    "with open('주제별 텍스트 일상 대화 데이터.txt', 'r', encoding='utf-8') as f1:\n",
    "    lines = f1.readlines()\n",
    "    for line in tqdm(lines, total=len(lines)):\n",
    "        w_list = repeat(line.strip())\n",
    "        for i in range(len(w_list)):\n",
    "            if w_list[i][1] > 2:\n",
    "                 w_list[i][1] = 2\n",
    "                    \n",
    "        s = ''\n",
    "        for w in w_list:\n",
    "            s += w[0] * w[1]\n",
    "            \n",
    "        if s.find('#@') == -1 and len(tokenizer.encode(s, add_special_tokens=False)) > 3:\n",
    "            total_dataset.append(s)\n",
    "\n",
    "with open('소상공인 고객 주문 질의-응답 텍스트.txt', 'r', encoding='utf-8') as f1:\n",
    "    lines = f1.readlines()\n",
    "    for line in tqdm(lines, total=len(lines)):\n",
    "        w_list = repeat(line.strip())\n",
    "        for i in range(len(w_list)):\n",
    "            if w_list[i][1] > 2:\n",
    "                 w_list[i][1] = 2\n",
    "                    \n",
    "        s = ''\n",
    "        for w in w_list:\n",
    "            s += w[0] * w[1]\n",
    "            \n",
    "        if s.find('#@') == -1 and len(tokenizer.encode(s, add_special_tokens=False)) > 3:\n",
    "            total_dataset.append(s)\n",
    "            \n",
    "with open('한국어 SNS.txt', 'r', encoding='utf-8') as f1:\n",
    "    lines = f1.readlines()\n",
    "    for line in tqdm(lines, total=len(lines)):\n",
    "        w_list = repeat(line.strip())\n",
    "        for i in range(len(w_list)):\n",
    "            if w_list[i][1] > 2:\n",
    "                 w_list[i][1] = 2\n",
    "                    \n",
    "        s = ''\n",
    "        for w in w_list:\n",
    "            s += w[0] * w[1]\n",
    "            \n",
    "        if s.find('#@') == -1 and len(tokenizer.encode(s, add_special_tokens=False)) > 3:\n",
    "            total_dataset.append(s)\n",
    "\n",
    "with open('dialogue_corpus_bak.txt', 'r', encoding='utf-8') as f1:\n",
    "    lines = f1.readlines()\n",
    "    for line in tqdm(lines, total=len(lines)):\n",
    "        w_list = repeat(line.strip())\n",
    "        for i in range(len(w_list)):\n",
    "            if w_list[i][1] > 2:\n",
    "                 w_list[i][1] = 2\n",
    "                    \n",
    "        s = ''\n",
    "        for w in w_list:\n",
    "            s += w[0] * w[1]\n",
    "            \n",
    "        if s.find('#@') == -1 and len(tokenizer.encode(s, add_special_tokens=False)) > 3:\n",
    "            total_dataset.append(s)\n",
    "            \n",
    "print(len(total_dataset))\n",
    "\n",
    "with open('dialogue_corpus_a.txt', 'w', encoding='utf-8') as f:\n",
    "    for data in total_dataset:\n",
    "        f.write(data.strip()+'\\n')"
   ]
  },
  {
   "cell_type": "code",
   "execution_count": 5,
   "id": "0adbd978",
   "metadata": {},
   "outputs": [],
   "source": [
    "dataset_final = []\n",
    "\n",
    "with open('dialogue_corpus_a.txt', 'r', encoding='utf-8') as f:\n",
    "    for line in f.readlines():\n",
    "        dataset_final.append(line.strip())\n",
    "        \n",
    "with open('dataset/emotion_and_minwon.txt', 'r', encoding='utf-8') as f:\n",
    "    for line in f.readlines():\n",
    "        dataset_final.append(line.strip())"
   ]
  },
  {
   "cell_type": "code",
   "execution_count": 6,
   "id": "cbb9a408",
   "metadata": {},
   "outputs": [
    {
     "data": {
      "text/plain": [
       "119601330"
      ]
     },
     "execution_count": 6,
     "metadata": {},
     "output_type": "execute_result"
    }
   ],
   "source": [
    "len(dataset_final)"
   ]
  },
  {
   "cell_type": "code",
   "execution_count": 8,
   "id": "82d37e68",
   "metadata": {},
   "outputs": [
    {
     "name": "stderr",
     "output_type": "stream",
     "text": [
      "100%|███████████████████████████████████████████████████████████████████████████████████████████████████████████████████████████████| 119601330/119601330 [01:51<00:00, 1075501.32it/s]\n"
     ]
    }
   ],
   "source": [
    "with open('dataset/chitchat_corpus.txt', 'w', encoding='utf-8') as f:\n",
    "    for data_final in tqdm(dataset_final, total=len(dataset_final)):\n",
    "        f.write(data_final.strip() + '\\n')"
   ]
  }
 ],
 "metadata": {
  "kernelspec": {
   "display_name": "Python 3 (ipykernel)",
   "language": "python",
   "name": "python3"
  },
  "language_info": {
   "codemirror_mode": {
    "name": "ipython",
    "version": 3
   },
   "file_extension": ".py",
   "mimetype": "text/x-python",
   "name": "python",
   "nbconvert_exporter": "python",
   "pygments_lexer": "ipython3",
   "version": "3.7.11"
  }
 },
 "nbformat": 4,
 "nbformat_minor": 5
}
